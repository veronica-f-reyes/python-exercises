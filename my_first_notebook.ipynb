{
 "cells": [
  {
   "cell_type": "markdown",
   "id": "85d1a39b",
   "metadata": {},
   "source": [
    "# My First Jupyter Notebook\n",
    "### Python Exercises\n",
    "\n",
    "1. Test out the jupyter notebook environment: \n",
    "2. Execute at least 3 Python cells\n",
    "3. Make some notes that describe 3 shortcuts for jupyter notebooks.\n",
    "\n",
    "   -Change cell to code -   (Command Mode) Y \n",
    "   -Show Keyboard shortcuts  -  (Command Mode) H\n",
    "   -Copy selected cell - (Command Mode) C\n",
    "   \n",
    "   "
   ]
  },
  {
   "cell_type": "code",
   "execution_count": 4,
   "id": "7c66a85d",
   "metadata": {},
   "outputs": [
    {
     "data": {
      "text/plain": [
       "2"
      ]
     },
     "execution_count": 4,
     "metadata": {},
     "output_type": "execute_result"
    }
   ],
   "source": [
    "1+1 "
   ]
  },
  {
   "cell_type": "code",
   "execution_count": 2,
   "id": "6a103b1b",
   "metadata": {},
   "outputs": [
    {
     "data": {
      "text/plain": [
       "6"
      ]
     },
     "execution_count": 2,
     "metadata": {},
     "output_type": "execute_result"
    }
   ],
   "source": [
    "5*2-4"
   ]
  },
  {
   "cell_type": "code",
   "execution_count": 3,
   "id": "b22fbafc",
   "metadata": {},
   "outputs": [
    {
     "name": "stdout",
     "output_type": "stream",
     "text": [
      "Hola!\n"
     ]
    }
   ],
   "source": [
    "print(\"Hola!\")"
   ]
  },
  {
   "cell_type": "markdown",
   "id": "b5c5095d",
   "metadata": {},
   "source": [
    "- 'Esc' puts you into comand mode whigh highlights cells in blue\n",
    "- 'enter' key puts you into edi mode which highlights the current cell in green and allows us to edit that cell\n",
    "- Command + Z in edit mode is an undo.  Edits/undos in a specific cell only apply to that one celll.\n",
    "- From command mode, \"z\" is an undo across the notebook.\n",
    "- 'Command + Y' in edit mode is a redo\n",
    "- From command mode, 'dd' is a delete the current cell.\n",
    "- From command mode, 'y' turns a cell into a code cell\n",
    "- From command mode, 'm' turns a cell into a markdown cell.\n",
    "- Shift+ Enter runs a cell."
   ]
  },
  {
   "cell_type": "markdown",
   "id": "f24bf6ca",
   "metadata": {},
   "source": [
    "## Other Jupyter Heads Up:\n",
    "- First step to troubleshooting a notebook, go to Kernel, then Restart\n",
    "- Second step in troubleshooting a notebook, stop the Jupyter notebook service from the terminal and re-launch it. "
   ]
  },
  {
   "cell_type": "code",
   "execution_count": null,
   "id": "c210889a",
   "metadata": {},
   "outputs": [],
   "source": []
  },
  {
   "cell_type": "code",
   "execution_count": null,
   "id": "d4852ea0",
   "metadata": {},
   "outputs": [],
   "source": []
  }
 ],
 "metadata": {
  "kernelspec": {
   "display_name": "Python 3",
   "language": "python",
   "name": "python3"
  },
  "language_info": {
   "codemirror_mode": {
    "name": "ipython",
    "version": 3
   },
   "file_extension": ".py",
   "mimetype": "text/x-python",
   "name": "python",
   "nbconvert_exporter": "python",
   "pygments_lexer": "ipython3",
   "version": "3.8.8"
  }
 },
 "nbformat": 4,
 "nbformat_minor": 5
}
