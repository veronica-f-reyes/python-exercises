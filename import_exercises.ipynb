{
 "cells": [
  {
   "cell_type": "markdown",
   "id": "65d71ed2",
   "metadata": {},
   "source": [
    "# Import Exercises"
   ]
  },
  {
   "cell_type": "code",
   "execution_count": 1,
   "id": "86b7166b",
   "metadata": {},
   "outputs": [
    {
     "name": "stdout",
     "output_type": "stream",
     "text": [
      "True\n",
      "True\n",
      "False\n",
      "Alpha\n",
      "Input is not a string.\n",
      "20.0\n",
      "80.0\n",
      "1234234\n",
      "A\n",
      "Not a valid input to convert to a letter grade.\n",
      "cdp\n",
      "[1, 3, 6, 10]\n"
     ]
    }
   ],
   "source": [
    "from function_exercises import get_letter_grade as grade"
   ]
  },
  {
   "cell_type": "code",
   "execution_count": 3,
   "id": "62c17b85",
   "metadata": {},
   "outputs": [
    {
     "data": {
      "text/plain": [
       "'A'"
      ]
     },
     "execution_count": 3,
     "metadata": {},
     "output_type": "execute_result"
    }
   ],
   "source": [
    "grade(98)"
   ]
  },
  {
   "cell_type": "markdown",
   "id": "734fadc4",
   "metadata": {},
   "source": [
    "### How many different ways can you combine the letters from \"abc\" with the numbers 1, 2, and 3?"
   ]
  },
  {
   "cell_type": "code",
   "execution_count": 11,
   "id": "b2e68925",
   "metadata": {},
   "outputs": [],
   "source": [
    "from itertools import permutations"
   ]
  },
  {
   "cell_type": "code",
   "execution_count": 24,
   "id": "8ee78eb3",
   "metadata": {},
   "outputs": [
    {
     "data": {
      "text/plain": [
       "15"
      ]
     },
     "execution_count": 24,
     "metadata": {},
     "output_type": "execute_result"
    }
   ],
   "source": [
    "len(list(permutations('abc',1))) + len(list(permutations('abc',2))) + len(list(permutations('abc',3)))  "
   ]
  },
  {
   "cell_type": "markdown",
   "id": "a93db926",
   "metadata": {},
   "source": [
    "### How many different combinations are there of 2 letters from \"abcd\"?"
   ]
  },
  {
   "cell_type": "code",
   "execution_count": 5,
   "id": "ddafd525",
   "metadata": {},
   "outputs": [],
   "source": [
    "from itertools import combinations"
   ]
  },
  {
   "cell_type": "code",
   "execution_count": 23,
   "id": "e806704b",
   "metadata": {},
   "outputs": [
    {
     "data": {
      "text/plain": [
       "6"
      ]
     },
     "execution_count": 23,
     "metadata": {},
     "output_type": "execute_result"
    }
   ],
   "source": [
    "len(list(combinations('abcd',2)))"
   ]
  },
  {
   "cell_type": "markdown",
   "id": "d792235a",
   "metadata": {},
   "source": [
    "### How many different permutations are there of 2 letters from \"abcd\"?"
   ]
  },
  {
   "cell_type": "code",
   "execution_count": 16,
   "id": "ef16ebd9",
   "metadata": {},
   "outputs": [],
   "source": [
    "from itertools import permutations"
   ]
  },
  {
   "cell_type": "code",
   "execution_count": 22,
   "id": "02c9b294",
   "metadata": {},
   "outputs": [
    {
     "data": {
      "text/plain": [
       "12"
      ]
     },
     "execution_count": 22,
     "metadata": {},
     "output_type": "execute_result"
    }
   ],
   "source": [
    "len(list(permutations('abcd',2)))"
   ]
  },
  {
   "cell_type": "code",
   "execution_count": 26,
   "id": "955c7825",
   "metadata": {},
   "outputs": [
    {
     "ename": "SyntaxError",
     "evalue": "unexpected EOF while parsing (<ipython-input-26-799420b4ea05>, line 3)",
     "output_type": "error",
     "traceback": [
      "\u001b[0;36m  File \u001b[0;32m\"<ipython-input-26-799420b4ea05>\"\u001b[0;36m, line \u001b[0;32m3\u001b[0m\n\u001b[0;31m    json.load(open('profiles.json')\u001b[0m\n\u001b[0m                                   ^\u001b[0m\n\u001b[0;31mSyntaxError\u001b[0m\u001b[0;31m:\u001b[0m unexpected EOF while parsing\n"
     ]
    }
   ],
   "source": [
    "import json\n",
    "\n",
    "json.load(open('profiles.json')"
   ]
  },
  {
   "cell_type": "code",
   "execution_count": null,
   "id": "faafafce",
   "metadata": {},
   "outputs": [],
   "source": []
  }
 ],
 "metadata": {
  "kernelspec": {
   "display_name": "Python 3",
   "language": "python",
   "name": "python3"
  },
  "language_info": {
   "codemirror_mode": {
    "name": "ipython",
    "version": 3
   },
   "file_extension": ".py",
   "mimetype": "text/x-python",
   "name": "python",
   "nbconvert_exporter": "python",
   "pygments_lexer": "ipython3",
   "version": "3.8.8"
  }
 },
 "nbformat": 4,
 "nbformat_minor": 5
}
