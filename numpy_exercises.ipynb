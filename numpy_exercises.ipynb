{
 "cells": [
  {
   "cell_type": "code",
   "execution_count": 1,
   "id": "736d1e0c",
   "metadata": {},
   "outputs": [],
   "source": [
    "import numpy as np"
   ]
  },
  {
   "cell_type": "code",
   "execution_count": 2,
   "id": "92fd474c",
   "metadata": {},
   "outputs": [
    {
     "data": {
      "text/plain": [
       "array([1, 2, 3])"
      ]
     },
     "execution_count": 2,
     "metadata": {},
     "output_type": "execute_result"
    }
   ],
   "source": [
    "a = np.array([1, 2, 3])\n",
    "a"
   ]
  },
  {
   "cell_type": "code",
   "execution_count": 3,
   "id": "9d3a6d15",
   "metadata": {},
   "outputs": [
    {
     "data": {
      "text/plain": [
       "array([[1, 2, 3],\n",
       "       [4, 5, 6],\n",
       "       [7, 8, 9]])"
      ]
     },
     "execution_count": 3,
     "metadata": {},
     "output_type": "execute_result"
    }
   ],
   "source": [
    "matrix = np.array([[1, 2, 3],\n",
    "                   [4, 5, 6],\n",
    "                   [7, 8, 9]])\n",
    "matrix"
   ]
  },
  {
   "cell_type": "code",
   "execution_count": 4,
   "id": "efd60d96",
   "metadata": {},
   "outputs": [
    {
     "data": {
      "text/plain": [
       "1"
      ]
     },
     "execution_count": 4,
     "metadata": {},
     "output_type": "execute_result"
    }
   ],
   "source": [
    "a[0]"
   ]
  },
  {
   "cell_type": "code",
   "execution_count": 5,
   "id": "abadb2cf",
   "metadata": {},
   "outputs": [
    {
     "name": "stdout",
     "output_type": "stream",
     "text": [
      "a    == [1 2 3]\n",
      "a[0] == 1\n",
      "a[1] == 2\n",
      "a[2] == 3\n"
     ]
    }
   ],
   "source": [
    "print('a    == {}'.format(a))\n",
    "print('a[0] == {}'.format(a[0]))\n",
    "print('a[1] == {}'.format(a[1]))\n",
    "print('a[2] == {}'.format(a[2]))"
   ]
  },
  {
   "cell_type": "code",
   "execution_count": 6,
   "id": "1f357210",
   "metadata": {},
   "outputs": [
    {
     "data": {
      "text/plain": [
       "5"
      ]
     },
     "execution_count": 6,
     "metadata": {},
     "output_type": "execute_result"
    }
   ],
   "source": [
    "matrix[1, 1]"
   ]
  },
  {
   "cell_type": "code",
   "execution_count": 7,
   "id": "176fe11b",
   "metadata": {},
   "outputs": [
    {
     "data": {
      "text/plain": [
       "array([1, 3])"
      ]
     },
     "execution_count": 7,
     "metadata": {},
     "output_type": "execute_result"
    }
   ],
   "source": [
    "should_include_elements = [True, False, True]\n",
    "a[should_include_elements]"
   ]
  },
  {
   "cell_type": "code",
   "execution_count": 8,
   "id": "c264ac0e",
   "metadata": {},
   "outputs": [
    {
     "data": {
      "text/plain": [
       "array([2, 3, 4, 5, 6])"
      ]
     },
     "execution_count": 8,
     "metadata": {},
     "output_type": "execute_result"
    }
   ],
   "source": [
    "original_array = np.array([1, 2, 3, 4, 5])\n",
    "original_array + 1"
   ]
  },
  {
   "cell_type": "code",
   "execution_count": 9,
   "id": "52526ceb",
   "metadata": {},
   "outputs": [
    {
     "name": "stdout",
     "output_type": "stream",
     "text": [
      "my_array      == [-3  0  3 16]\n",
      "my_array - 5  == [-8 -5 -2 11]\n",
      "my_array * 4  == [-12   0  12  64]\n",
      "my_array / 2  == [-1.5  0.   1.5  8. ]\n",
      "my_array ** 2 == [  9   0   9 256]\n",
      "my_array % 2  == [1 0 1 0]\n"
     ]
    }
   ],
   "source": [
    "my_array = np.array([-3, 0, 3, 16])\n",
    "\n",
    "print('my_array      == {}'.format(my_array))\n",
    "print('my_array - 5  == {}'.format(my_array - 5))\n",
    "print('my_array * 4  == {}'.format(my_array * 4))\n",
    "print('my_array / 2  == {}'.format(my_array / 2))\n",
    "print('my_array ** 2 == {}'.format(my_array ** 2))\n",
    "print('my_array % 2  == {}'.format(my_array % 2))"
   ]
  },
  {
   "cell_type": "code",
   "execution_count": 10,
   "id": "717e6236",
   "metadata": {},
   "outputs": [],
   "source": [
    "my_array = np.array([-3, 0, 3, 16])"
   ]
  },
  {
   "cell_type": "code",
   "execution_count": 11,
   "id": "ea6fa0fc",
   "metadata": {},
   "outputs": [
    {
     "data": {
      "text/plain": [
       "array([ 3, 16])"
      ]
     },
     "execution_count": 11,
     "metadata": {},
     "output_type": "execute_result"
    }
   ],
   "source": [
    "my_array[my_array > 0]"
   ]
  },
  {
   "cell_type": "code",
   "execution_count": 12,
   "id": "3faa9150",
   "metadata": {},
   "outputs": [
    {
     "data": {
      "text/plain": [
       "array([ 0, 16])"
      ]
     },
     "execution_count": 12,
     "metadata": {},
     "output_type": "execute_result"
    }
   ],
   "source": [
    "my_array[my_array % 2 == 0]"
   ]
  },
  {
   "cell_type": "markdown",
   "id": "2f80d6d9",
   "metadata": {},
   "source": [
    "## Numpy Exercises"
   ]
  },
  {
   "cell_type": "markdown",
   "id": "4b262b65",
   "metadata": {},
   "source": [
    " 1. How many negative numbers are there?"
   ]
  },
  {
   "cell_type": "code",
   "execution_count": 134,
   "id": "e54f8d69",
   "metadata": {},
   "outputs": [],
   "source": [
    "a = np.array([4, 10, 12, 23, -2, -1, 0, 0, 0, -6, 3, -7])\n"
   ]
  },
  {
   "cell_type": "code",
   "execution_count": 138,
   "id": "d8a9a581",
   "metadata": {},
   "outputs": [
    {
     "name": "stdout",
     "output_type": "stream",
     "text": [
      "[-2 -1 -6 -7]\n",
      "Number of negative numbers:  4\n"
     ]
    }
   ],
   "source": [
    "print(a[a < 0])\n",
    "print(\"Number of negative numbers: \", len(a[a < 0]))\n"
   ]
  },
  {
   "cell_type": "code",
   "execution_count": 136,
   "id": "8ce57251",
   "metadata": {},
   "outputs": [
    {
     "data": {
      "text/plain": [
       "4"
      ]
     },
     "execution_count": 136,
     "metadata": {},
     "output_type": "execute_result"
    }
   ],
   "source": [
    "#Another approach\n",
    "mask = a < 0\n",
    "neg_nums = a[mask]\n",
    "neg_nums.size"
   ]
  },
  {
   "cell_type": "markdown",
   "id": "fb425e61",
   "metadata": {},
   "source": [
    "2. How many positive numbers are there?"
   ]
  },
  {
   "cell_type": "code",
   "execution_count": 139,
   "id": "c40fc114",
   "metadata": {},
   "outputs": [
    {
     "name": "stdout",
     "output_type": "stream",
     "text": [
      "[ 4 10 12 23  3]\n",
      "Number of positive numbers:  5\n"
     ]
    }
   ],
   "source": [
    "print(a[a > 0])\n",
    "print(\"Number of positive numbers: \", len(a[a > 0]))"
   ]
  },
  {
   "cell_type": "code",
   "execution_count": 137,
   "id": "f1c66aa8",
   "metadata": {},
   "outputs": [
    {
     "data": {
      "text/plain": [
       "5"
      ]
     },
     "execution_count": 137,
     "metadata": {},
     "output_type": "execute_result"
    }
   ],
   "source": [
    "#Another approach\n",
    "mask = a > 0\n",
    "pos_nums = a[mask]\n",
    "pos_nums.size"
   ]
  },
  {
   "cell_type": "markdown",
   "id": "51d4b86a",
   "metadata": {},
   "source": [
    "3. How many even positive numbers are there?"
   ]
  },
  {
   "cell_type": "code",
   "execution_count": 140,
   "id": "1c6a3b07",
   "metadata": {},
   "outputs": [
    {
     "name": "stdout",
     "output_type": "stream",
     "text": [
      "[ 4 10 12]\n",
      "Number of even positive numbers:  3\n"
     ]
    }
   ],
   "source": [
    "mask = (a > 0) & (a % 2 == 0)\n",
    "\n",
    "print(a[mask])\n",
    "\n",
    "print(\"Number of even positive numbers: \", len(a[mask]))\n"
   ]
  },
  {
   "cell_type": "markdown",
   "id": "eb122341",
   "metadata": {},
   "source": [
    "4. If you were to add 3 to each data point, how many positive numbers would there be?"
   ]
  },
  {
   "cell_type": "code",
   "execution_count": 52,
   "id": "4553c6f4",
   "metadata": {},
   "outputs": [
    {
     "name": "stdout",
     "output_type": "stream",
     "text": [
      "[ 4 10 12 23 -2 -1  0  0  0 -6  3 -7]\n",
      "[ 7 13 15 26  1  2  3  3  3 -3  6 -4]\n",
      "[ 7 13 15 26  1  2  3  3  3  6]\n",
      "Number of positive numbers:  10\n"
     ]
    }
   ],
   "source": [
    "b = a + 3 \n",
    "\n",
    "print(a)\n",
    "\n",
    "print(b)\n",
    "\n",
    "mask = b > 0\n",
    "\n",
    "print(b[mask])\n",
    "\n",
    "print(\"Number of positive numbers after adding 3: \", len(b[mask]))"
   ]
  },
  {
   "cell_type": "markdown",
   "id": "39d224f2",
   "metadata": {},
   "source": [
    "5. If you squared each number, what would the new mean and standard deviation be?"
   ]
  },
  {
   "cell_type": "code",
   "execution_count": 141,
   "id": "315ddcc1",
   "metadata": {},
   "outputs": [
    {
     "name": "stdout",
     "output_type": "stream",
     "text": [
      "[ 4 10 12 23 -2 -1  0  0  0 -6  3 -7]\n",
      "[ 16 100 144 529   4   1   0   0   0  36   9  49]\n",
      "New mean is :  74.0\n",
      "New standard deviation is:  144.0243035046516\n"
     ]
    }
   ],
   "source": [
    "sq = a ** 2\n",
    "print(a)\n",
    "print(sq)\n",
    "\n",
    "m = sq.mean()\n",
    "s_d = sq.std()\n",
    "\n",
    "print(\"New mean is : \", m)\n",
    "print(\"New standard deviation is: \", s_d)"
   ]
  },
  {
   "cell_type": "markdown",
   "id": "711eb35d",
   "metadata": {},
   "source": [
    "6. A common statistical operation on a dataset is centering. This means to adjust the data such that the mean of the data is 0. This is done by subtracting the mean from each data point. Center the data set. "
   ]
  },
  {
   "cell_type": "code",
   "execution_count": 56,
   "id": "deb2a150",
   "metadata": {},
   "outputs": [
    {
     "name": "stdout",
     "output_type": "stream",
     "text": [
      "[ 4 10 12 23 -2 -1  0  0  0 -6  3 -7]\n",
      "Mean of array a is :  3.0\n",
      "[  1.   7.   9.  20.  -5.  -4.  -3.  -3.  -3.  -9.   0. -10.]\n"
     ]
    }
   ],
   "source": [
    "print(a)\n",
    "\n",
    "m = a.mean()\n",
    "\n",
    "centered = a - m\n",
    "\n",
    "print(\"Mean of array a is : \", m)\n",
    "\n",
    "print(centered)\n",
    "\n"
   ]
  },
  {
   "cell_type": "markdown",
   "id": "a6d2542d",
   "metadata": {},
   "source": [
    "7. Calculate the z-score for each data point. Recall that the z-score is given by:\n",
    "\n",
    "                Z = (x − μ) / σ    ==    Z = (x - avg(x)) / std(x)\n"
   ]
  },
  {
   "cell_type": "code",
   "execution_count": 60,
   "id": "53feaf7e",
   "metadata": {},
   "outputs": [
    {
     "name": "stdout",
     "output_type": "stream",
     "text": [
      "[ 4 10 12 23 -2 -1  0  0  0 -6  3 -7]\n",
      "Mean is :  3.0\n",
      "Standard deviation is:  8.06225774829855\n",
      "\n",
      "Z score is:  [ 0.12403473  0.86824314  1.11631261  2.48069469 -0.62017367 -0.49613894\n",
      " -0.3721042  -0.3721042  -0.3721042  -1.11631261  0.         -1.24034735]\n"
     ]
    }
   ],
   "source": [
    "print(a)\n",
    "\n",
    "m = a.mean()\n",
    "s_d = a.std()\n",
    "\n",
    "print(\"Mean is : \", m)\n",
    "print(\"Standard deviation is: \", s_d)\n",
    "\n",
    "z_score = (a - m) / s_d\n",
    "print(\"\\nZ score is: \", z_score)"
   ]
  },
  {
   "cell_type": "markdown",
   "id": "d6a9a9d3",
   "metadata": {},
   "source": [
    "## More Numpy Practice"
   ]
  },
  {
   "cell_type": "code",
   "execution_count": 64,
   "id": "aa82f106",
   "metadata": {},
   "outputs": [],
   "source": [
    "import numpy as np"
   ]
  },
  {
   "cell_type": "markdown",
   "id": "505a3683",
   "metadata": {},
   "source": [
    "# Life w/o numpy to life with numpy\n",
    "\n",
    "### Setup 1"
   ]
  },
  {
   "cell_type": "code",
   "execution_count": 68,
   "id": "be4c03b6",
   "metadata": {},
   "outputs": [],
   "source": [
    "a = np.array([1, 2, 3, 4, 5, 6, 7, 8, 9, 10])"
   ]
  },
  {
   "cell_type": "markdown",
   "id": "62674250",
   "metadata": {},
   "source": [
    "### Use python's built in functionality/operators to determine the following:\n",
    "\n",
    "### Exercise 1 \n",
    "Make a variable called sum_of_a to hold the sum of all the numbers in above list\n",
    "\n"
   ]
  },
  {
   "cell_type": "code",
   "execution_count": 69,
   "id": "762db25b",
   "metadata": {},
   "outputs": [
    {
     "name": "stdout",
     "output_type": "stream",
     "text": [
      "55\n"
     ]
    }
   ],
   "source": [
    "sum_of_a = a.sum()\n",
    "print(sum_of_a)"
   ]
  },
  {
   "cell_type": "markdown",
   "id": "c6adb81f",
   "metadata": {},
   "source": [
    "#### Exercise 2 \n",
    "Make a variable named min_of_a to hold the minimum of all the numbers in the above list\n",
    "\n"
   ]
  },
  {
   "cell_type": "code",
   "execution_count": 70,
   "id": "21c45977",
   "metadata": {},
   "outputs": [
    {
     "name": "stdout",
     "output_type": "stream",
     "text": [
      "1\n"
     ]
    }
   ],
   "source": [
    "min_of_a = a.min()\n",
    "print(min_of_a)"
   ]
  },
  {
   "cell_type": "markdown",
   "id": "2e0560a8",
   "metadata": {},
   "source": [
    "### Exercise 3\n",
    "Make a variable named max_of_a to hold the max number of all the numbers in the above list\n",
    "\n"
   ]
  },
  {
   "cell_type": "code",
   "execution_count": 71,
   "id": "209025ee",
   "metadata": {},
   "outputs": [
    {
     "name": "stdout",
     "output_type": "stream",
     "text": [
      "10\n"
     ]
    }
   ],
   "source": [
    "max_of_a = a.max()\n",
    "print(max_of_a)"
   ]
  },
  {
   "cell_type": "markdown",
   "id": "bb9565df",
   "metadata": {},
   "source": [
    "### Exercise 4\n",
    "Make a variable named mean_of_a to hold the average of all the numbers in the above list\n",
    "\n"
   ]
  },
  {
   "cell_type": "code",
   "execution_count": 73,
   "id": "26392de1",
   "metadata": {},
   "outputs": [
    {
     "name": "stdout",
     "output_type": "stream",
     "text": [
      "5.5\n"
     ]
    }
   ],
   "source": [
    "mean_of_a = a.mean()\n",
    "print(mean_of_a)"
   ]
  },
  {
   "cell_type": "markdown",
   "id": "dd1eac2d",
   "metadata": {},
   "source": [
    "### Exercise 5 \n",
    "Make a variable named product_of_a to hold the product of multiplying all the numbers in the above list together\n",
    "\n"
   ]
  },
  {
   "cell_type": "code",
   "execution_count": 76,
   "id": "d2fd9cff",
   "metadata": {},
   "outputs": [
    {
     "name": "stdout",
     "output_type": "stream",
     "text": [
      "3628800\n"
     ]
    }
   ],
   "source": [
    "product_of_a = a.prod()\n",
    "print(product_of_a)"
   ]
  },
  {
   "cell_type": "markdown",
   "id": "f43a88d7",
   "metadata": {},
   "source": [
    "\n",
    "### Exercise 6 \n",
    "Make a variable named squares_of_a. It should hold each number in a squared like [1, 4, 9, 16, 25...]\n",
    "\n"
   ]
  },
  {
   "cell_type": "code",
   "execution_count": 80,
   "id": "b38f2b9e",
   "metadata": {},
   "outputs": [
    {
     "name": "stdout",
     "output_type": "stream",
     "text": [
      "a: [ 1  2  3  4  5  6  7  8  9 10]\n",
      "a squared:  [  1   4   9  16  25  36  49  64  81 100]\n"
     ]
    }
   ],
   "source": [
    "squares_of_a = np.square(a)\n",
    "print('a:', a)\n",
    "print(\"a squared: \", squares_of_a)\n"
   ]
  },
  {
   "cell_type": "markdown",
   "id": "96616d62",
   "metadata": {},
   "source": [
    "\n",
    "### Exercise 7 \n",
    "Make a variable named odds_in_a. It should hold only the odd numbers\n",
    "\n"
   ]
  },
  {
   "cell_type": "code",
   "execution_count": 84,
   "id": "b18b247a",
   "metadata": {},
   "outputs": [
    {
     "name": "stdout",
     "output_type": "stream",
     "text": [
      "[ 1  2  3  4  5  6  7  8  9 10]\n",
      "[1 3 5 7 9]\n"
     ]
    }
   ],
   "source": [
    "odds_in_a = a[a % 2 != 0]\n",
    "\n",
    "print(a)\n",
    "print(odds_in_a)"
   ]
  },
  {
   "cell_type": "markdown",
   "id": "e6169950",
   "metadata": {},
   "source": [
    "### Exercise 8\n",
    "Make a variable named evens_in_a. It should hold only the evens."
   ]
  },
  {
   "cell_type": "code",
   "execution_count": 86,
   "id": "bf7f98e2",
   "metadata": {},
   "outputs": [
    {
     "name": "stdout",
     "output_type": "stream",
     "text": [
      "[ 1  2  3  4  5  6  7  8  9 10]\n",
      "[ 2  4  6  8 10]\n"
     ]
    }
   ],
   "source": [
    "evens_in_a = a[a % 2 == 0]\n",
    "\n",
    "print(a)\n",
    "print(evens_in_a)"
   ]
  },
  {
   "cell_type": "markdown",
   "id": "d9b8892e",
   "metadata": {},
   "source": [
    "## What about life in two dimensions? A list of lists is matrix, a table, a spreadsheet, a chessboard...\n",
    "### Setup 2: Consider what it would take to find the sum, min, max, average, sum, product, and list of squares for this list of two lists.\n",
    "b = [\n",
    "    [3, 4, 5],\n",
    "    [6, 7, 8]\n",
    "]"
   ]
  },
  {
   "cell_type": "code",
   "execution_count": 87,
   "id": "3ad62490",
   "metadata": {},
   "outputs": [],
   "source": [
    "b = np.array([[3, 4, 5], [6, 7, 8] ])"
   ]
  },
  {
   "cell_type": "markdown",
   "id": "2c0e32d0",
   "metadata": {},
   "source": [
    "### Exercise 1 \n",
    "Refactor the following to use numpy. Use sum_of_b as the variable. **Hint, you'll first need to make sure that the \"b\" variable is a numpy array**\n",
    "sum_of_b = 0\n",
    "for row in b:\n",
    "    sum_of_b += sum(row)"
   ]
  },
  {
   "cell_type": "code",
   "execution_count": 88,
   "id": "30a0dc18",
   "metadata": {},
   "outputs": [
    {
     "name": "stdout",
     "output_type": "stream",
     "text": [
      "33\n"
     ]
    }
   ],
   "source": [
    "sum_of_b = b.sum()\n",
    "print(sum_of_b)"
   ]
  },
  {
   "cell_type": "markdown",
   "id": "20137871",
   "metadata": {},
   "source": [
    "### Exercise 2 \n",
    "Refactor the following to use numpy. \n",
    "min_of_b = min(b[0]) if min(b[0]) <= min(b[1]) else min(b[1])"
   ]
  },
  {
   "cell_type": "code",
   "execution_count": 89,
   "id": "58090dc6",
   "metadata": {},
   "outputs": [
    {
     "name": "stdout",
     "output_type": "stream",
     "text": [
      "3\n"
     ]
    }
   ],
   "source": [
    "min_of_b = b.min()\n",
    "print(min_of_b)"
   ]
  },
  {
   "cell_type": "markdown",
   "id": "a56114ba",
   "metadata": {},
   "source": [
    "### Exercise 3 \n",
    "Refactor the following maximum calculation to find the answer with numpy.\n",
    "max_of_b = max(b[0]) if max(b[0]) >= max(b[1]) else max(b[1])"
   ]
  },
  {
   "cell_type": "code",
   "execution_count": 90,
   "id": "0fa6d736",
   "metadata": {},
   "outputs": [
    {
     "name": "stdout",
     "output_type": "stream",
     "text": [
      "8\n"
     ]
    }
   ],
   "source": [
    "max_of_b = b.max()\n",
    "print(max_of_b)"
   ]
  },
  {
   "cell_type": "markdown",
   "id": "5a8772ff",
   "metadata": {},
   "source": [
    "### Exercise 4 \n",
    "Refactor the following using numpy to find the mean of b\n",
    "mean_of_b = (sum(b[0]) + sum(b[1])) / (len(b[0]) + len(b[1]))\n",
    "\n"
   ]
  },
  {
   "cell_type": "code",
   "execution_count": 91,
   "id": "09d01089",
   "metadata": {},
   "outputs": [
    {
     "name": "stdout",
     "output_type": "stream",
     "text": [
      "5.5\n"
     ]
    }
   ],
   "source": [
    "mean_of_b = b.mean()\n",
    "print(mean_of_b)"
   ]
  },
  {
   "cell_type": "markdown",
   "id": "7afc3e23",
   "metadata": {},
   "source": [
    "### Exercise 5 \n",
    "Refactor the following to use numpy for calculating the product of all numbers multiplied together.\n",
    "product_of_b = 1\n",
    "for row in b:\n",
    "    for number in row:\n",
    "        product_of_b *= number"
   ]
  },
  {
   "cell_type": "code",
   "execution_count": 92,
   "id": "505c050f",
   "metadata": {},
   "outputs": [
    {
     "name": "stdout",
     "output_type": "stream",
     "text": [
      "20160\n"
     ]
    }
   ],
   "source": [
    "product_of_b = b.prod()\n",
    "print(product_of_b)"
   ]
  },
  {
   "cell_type": "markdown",
   "id": "a9ffce4d",
   "metadata": {},
   "source": [
    "### Exercise 6 \n",
    "Refactor the following to use numpy to find the list of squares \n",
    "squares_of_b = []\n",
    "for row in b:\n",
    "    for number in row:\n",
    "        squares_of_b.append(number**2)"
   ]
  },
  {
   "cell_type": "code",
   "execution_count": 93,
   "id": "2f9eb181",
   "metadata": {},
   "outputs": [
    {
     "name": "stdout",
     "output_type": "stream",
     "text": [
      "[[ 9 16 25]\n",
      " [36 49 64]]\n"
     ]
    }
   ],
   "source": [
    "squares_of_b =  np.square(b)\n",
    "print(squares_of_b)"
   ]
  },
  {
   "cell_type": "markdown",
   "id": "22c12d7a",
   "metadata": {},
   "source": [
    "\n",
    "### Exercise 7 \n",
    "Refactor using numpy to determine the odds_in_b\n",
    "odds_in_b = []\n",
    "for row in b:\n",
    "    for number in row:\n",
    "        if(number % 2 != 0):\n",
    "            odds_in_b.append(number)"
   ]
  },
  {
   "cell_type": "code",
   "execution_count": 95,
   "id": "223091c1",
   "metadata": {},
   "outputs": [
    {
     "name": "stdout",
     "output_type": "stream",
     "text": [
      "[[3 4 5]\n",
      " [6 7 8]]\n",
      "\n",
      " [3 5 7]\n"
     ]
    }
   ],
   "source": [
    "odds_in_b = b[b % 2 != 0]\n",
    "\n",
    "print(b)\n",
    "print('\\n',odds_in_b)"
   ]
  },
  {
   "cell_type": "markdown",
   "id": "64535f2d",
   "metadata": {},
   "source": [
    "### Exercise 8\n",
    "Refactor the following to use numpy to filter only the even numbers\n",
    "evens_in_b = []\n",
    "for row in b:\n",
    "    for number in row:\n",
    "        if(number % 2 == 0):\n",
    "            evens_in_b.append(number)"
   ]
  },
  {
   "cell_type": "code",
   "execution_count": 98,
   "id": "71bfea54",
   "metadata": {},
   "outputs": [
    {
     "name": "stdout",
     "output_type": "stream",
     "text": [
      "[[3 4 5]\n",
      " [6 7 8]]\n",
      "\n",
      " [4 6 8]\n"
     ]
    }
   ],
   "source": [
    "evens_in_b = b[b % 2 == 0]\n",
    "\n",
    "print(b)\n",
    "print('\\n',evens_in_b)"
   ]
  },
  {
   "cell_type": "markdown",
   "id": "9291b0ee",
   "metadata": {},
   "source": [
    " ### Exercise 9 \n",
    "Print out the shape of the array b."
   ]
  },
  {
   "cell_type": "code",
   "execution_count": 99,
   "id": "8ae17019",
   "metadata": {},
   "outputs": [
    {
     "name": "stdout",
     "output_type": "stream",
     "text": [
      "(2, 3)\n"
     ]
    }
   ],
   "source": [
    "print(b.shape)"
   ]
  },
  {
   "cell_type": "markdown",
   "id": "d342a97f",
   "metadata": {},
   "source": [
    "\n",
    "### Exercise 10 \n",
    "Transpose the array b."
   ]
  },
  {
   "cell_type": "code",
   "execution_count": 100,
   "id": "321ae6a3",
   "metadata": {},
   "outputs": [
    {
     "name": "stdout",
     "output_type": "stream",
     "text": [
      "[[3 4 5]\n",
      " [6 7 8]] \n",
      "\n",
      "[[3 6]\n",
      " [4 7]\n",
      " [5 8]]\n"
     ]
    }
   ],
   "source": [
    "print(b, '\\n')\n",
    "print(b.transpose())"
   ]
  },
  {
   "cell_type": "markdown",
   "id": "3b173a8c",
   "metadata": {},
   "source": [
    "### Exercise 11 \n",
    "Reshape the array b to be a single list of 6 numbers. (1 x 6)"
   ]
  },
  {
   "cell_type": "code",
   "execution_count": 101,
   "id": "bffa7307",
   "metadata": {},
   "outputs": [
    {
     "name": "stdout",
     "output_type": "stream",
     "text": [
      "[[3 4 5]\n",
      " [6 7 8]] \n",
      "\n",
      "[[3 4 5 6 7 8]]\n"
     ]
    }
   ],
   "source": [
    "print(b, '\\n')\n",
    "print(b.reshape(1,6))"
   ]
  },
  {
   "cell_type": "markdown",
   "id": "79b46c8a",
   "metadata": {},
   "source": [
    "### Exercise 12 \n",
    "Reshape the array b to be a list of 6 lists, each containing only 1 number (6 x 1)\n",
    "\n"
   ]
  },
  {
   "cell_type": "code",
   "execution_count": 102,
   "id": "b01454b9",
   "metadata": {},
   "outputs": [
    {
     "name": "stdout",
     "output_type": "stream",
     "text": [
      "[[3 4 5]\n",
      " [6 7 8]] \n",
      "\n",
      "[[3]\n",
      " [4]\n",
      " [5]\n",
      " [6]\n",
      " [7]\n",
      " [8]]\n"
     ]
    }
   ],
   "source": [
    "print(b, '\\n')\n",
    "print(b.reshape(6,1))"
   ]
  },
  {
   "cell_type": "markdown",
   "id": "53285f4d",
   "metadata": {},
   "source": [
    "\n",
    "## Setup 3\n",
    "c = [\n",
    "    [1, 2, 3],\n",
    "    [4, 5, 6],\n",
    "    [7, 8, 9]\n",
    "]\n",
    "\n",
    "### HINT, you'll first need to make sure that the \"c\" variable is a numpy array prior to using numpy array methods.\n",
    "\n"
   ]
  },
  {
   "cell_type": "code",
   "execution_count": 103,
   "id": "958caf4d",
   "metadata": {},
   "outputs": [],
   "source": [
    "c = np.array([ [1, 2, 3], [4, 5, 6], [7, 8, 9] ])"
   ]
  },
  {
   "cell_type": "markdown",
   "id": "8cfdc1ef",
   "metadata": {},
   "source": [
    "### Exercise 1\n",
    "Find the min, max, sum, and product of c."
   ]
  },
  {
   "cell_type": "code",
   "execution_count": 105,
   "id": "c556e702",
   "metadata": {},
   "outputs": [
    {
     "name": "stdout",
     "output_type": "stream",
     "text": [
      "1\n",
      "\n",
      " 9\n",
      "\n",
      " 45\n"
     ]
    }
   ],
   "source": [
    "min_of_c = c.min()\n",
    "print(min_of_c)\n",
    "\n",
    "max_of_c = c.max()\n",
    "print('\\n',max_of_c)\n",
    "\n",
    "sum_of_c = c.sum()\n",
    "print('\\n',sum_of_c)"
   ]
  },
  {
   "cell_type": "markdown",
   "id": "d36f05cf",
   "metadata": {},
   "source": [
    "### Exercise 2 \n",
    "Determine the standard deviation of c."
   ]
  },
  {
   "cell_type": "code",
   "execution_count": 107,
   "id": "afb5a1e5",
   "metadata": {},
   "outputs": [
    {
     "name": "stdout",
     "output_type": "stream",
     "text": [
      "Standard deviation is:  2.581988897471611\n"
     ]
    }
   ],
   "source": [
    "c_s_d = c.std()\n",
    "\n",
    "print(\"Standard deviation is: \", c_s_d)"
   ]
  },
  {
   "cell_type": "markdown",
   "id": "0319dd1d",
   "metadata": {},
   "source": [
    "### Exercise 3 \n",
    "Determine the variance of c."
   ]
  },
  {
   "cell_type": "code",
   "execution_count": 109,
   "id": "962320f5",
   "metadata": {},
   "outputs": [
    {
     "name": "stdout",
     "output_type": "stream",
     "text": [
      "Variance is:  6.666666666666667\n"
     ]
    }
   ],
   "source": [
    "c_var = c.var()\n",
    "\n",
    "print(\"Variance is: \", c_var)"
   ]
  },
  {
   "cell_type": "markdown",
   "id": "d39c040e",
   "metadata": {},
   "source": [
    "### Exercise 4 \n",
    "Print out the shape of the array c"
   ]
  },
  {
   "cell_type": "code",
   "execution_count": 110,
   "id": "3cd4074c",
   "metadata": {},
   "outputs": [
    {
     "name": "stdout",
     "output_type": "stream",
     "text": [
      "(3, 3)\n"
     ]
    }
   ],
   "source": [
    "print(c.shape)"
   ]
  },
  {
   "cell_type": "markdown",
   "id": "cf97ba42",
   "metadata": {},
   "source": [
    "### Exercise 5 \n",
    "Transpose c and print out transposed result."
   ]
  },
  {
   "cell_type": "code",
   "execution_count": 111,
   "id": "cab30c81",
   "metadata": {},
   "outputs": [
    {
     "name": "stdout",
     "output_type": "stream",
     "text": [
      "[[1 2 3]\n",
      " [4 5 6]\n",
      " [7 8 9]] \n",
      "\n",
      "[[1 4 7]\n",
      " [2 5 8]\n",
      " [3 6 9]]\n"
     ]
    }
   ],
   "source": [
    "print(c, '\\n')\n",
    "print(c.transpose())"
   ]
  },
  {
   "cell_type": "markdown",
   "id": "d7422f86",
   "metadata": {},
   "source": [
    "### Exercise 6 \n",
    "Get the dot product of the array c with c. \n",
    "\n"
   ]
  },
  {
   "cell_type": "code",
   "execution_count": 114,
   "id": "9552512c",
   "metadata": {},
   "outputs": [
    {
     "name": "stdout",
     "output_type": "stream",
     "text": [
      "[[1 2 3]\n",
      " [4 5 6]\n",
      " [7 8 9]]\n",
      "\n",
      " [[ 1  4  9]\n",
      " [16 25 36]\n",
      " [49 64 81]]\n"
     ]
    }
   ],
   "source": [
    "dot = c * c\n",
    "print(c)\n",
    "print('\\n', dot)"
   ]
  },
  {
   "cell_type": "markdown",
   "id": "c4f8aff0",
   "metadata": {},
   "source": [
    "### Exercise 7\n",
    "Write the code necessary to sum up the result of c times c transposed. Answer should be 261\n",
    "\n"
   ]
  },
  {
   "cell_type": "code",
   "execution_count": 119,
   "id": "42ae131d",
   "metadata": {},
   "outputs": [
    {
     "name": "stdout",
     "output_type": "stream",
     "text": [
      "261\n"
     ]
    }
   ],
   "source": [
    "c_transposed = c.transpose()\n",
    "res = c * c_transposed\n",
    "sum_c_and_ctransposed = res.sum() \n",
    "print(sum_c_and_ctransposed)"
   ]
  },
  {
   "cell_type": "markdown",
   "id": "d2e3c93a",
   "metadata": {},
   "source": [
    "### Exercise 8\n",
    "Write the code necessary to determine the product of c times c transposed. Answer should be 131681894400.\n",
    "\n",
    "\n"
   ]
  },
  {
   "cell_type": "code",
   "execution_count": 120,
   "id": "8eac7dbc",
   "metadata": {},
   "outputs": [
    {
     "name": "stdout",
     "output_type": "stream",
     "text": [
      "131681894400\n"
     ]
    }
   ],
   "source": [
    "c_transposed = c.transpose()\n",
    "res = c * c_transposed\n",
    "prod_c_and_ctransposed = res.prod() \n",
    "print(prod_c_and_ctransposed)"
   ]
  },
  {
   "cell_type": "markdown",
   "id": "f361d2fd",
   "metadata": {},
   "source": [
    "## Setup 4\n",
    "d = [\n",
    "    [90, 30, 45, 0, 120, 180],\n",
    "    [45, -90, -30, 270, 90, 0],\n",
    "    [60, 45, -45, 90, -45, 180]\n",
    "]\n",
    "\n"
   ]
  },
  {
   "cell_type": "code",
   "execution_count": 121,
   "id": "3d776691",
   "metadata": {},
   "outputs": [],
   "source": [
    "d = np.array( [ [90, 30, 45, 0, 120, 180], [45, -90, -30, 270, 90, 0], [60, 45, -45, 90, -45, 180] ])"
   ]
  },
  {
   "cell_type": "markdown",
   "id": "5294fbe7",
   "metadata": {},
   "source": [
    "### Exercise 1 - Find the sine of all the numbers in d"
   ]
  },
  {
   "cell_type": "code",
   "execution_count": 123,
   "id": "df0044b8",
   "metadata": {},
   "outputs": [
    {
     "name": "stdout",
     "output_type": "stream",
     "text": [
      "[[ 0.89399666 -0.98803162  0.85090352  0.          0.58061118 -0.80115264]\n",
      " [ 0.85090352 -0.89399666  0.98803162 -0.17604595  0.89399666  0.        ]\n",
      " [-0.30481062  0.85090352 -0.85090352  0.89399666 -0.85090352 -0.80115264]]\n"
     ]
    }
   ],
   "source": [
    "d_sin = np.sin(d)\n",
    "print(d_sin)"
   ]
  },
  {
   "cell_type": "markdown",
   "id": "c154e72a",
   "metadata": {},
   "source": [
    "### Exercise 2 \n",
    "Find the cosine of all the numbers in d"
   ]
  },
  {
   "cell_type": "code",
   "execution_count": 124,
   "id": "771ed2a0",
   "metadata": {},
   "outputs": [
    {
     "name": "stdout",
     "output_type": "stream",
     "text": [
      "[[-0.44807362  0.15425145  0.52532199  1.          0.81418097 -0.59846007]\n",
      " [ 0.52532199 -0.44807362  0.15425145  0.98438195 -0.44807362  1.        ]\n",
      " [-0.95241298  0.52532199  0.52532199 -0.44807362  0.52532199 -0.59846007]]\n"
     ]
    }
   ],
   "source": [
    "d_cos = np.cos(d)\n",
    "print(d_cos)"
   ]
  },
  {
   "cell_type": "markdown",
   "id": "abb02d61",
   "metadata": {},
   "source": [
    "### Exercise 3\n",
    "Find the tangent of all the numbers in d"
   ]
  },
  {
   "cell_type": "code",
   "execution_count": 125,
   "id": "338cfa22",
   "metadata": {},
   "outputs": [
    {
     "name": "stdout",
     "output_type": "stream",
     "text": [
      "[[-1.99520041 -6.4053312   1.61977519  0.          0.71312301  1.33869021]\n",
      " [ 1.61977519  1.99520041  6.4053312  -0.17883906 -1.99520041  0.        ]\n",
      " [ 0.32004039  1.61977519 -1.61977519 -1.99520041 -1.61977519  1.33869021]]\n"
     ]
    }
   ],
   "source": [
    "d_tan = np.tan(d)\n",
    "print(d_tan)"
   ]
  },
  {
   "cell_type": "markdown",
   "id": "a6128c89",
   "metadata": {},
   "source": [
    "### Exercise 4 \n",
    "Find all the negative numbers in d"
   ]
  },
  {
   "cell_type": "code",
   "execution_count": 129,
   "id": "cbce7879",
   "metadata": {},
   "outputs": [
    {
     "name": "stdout",
     "output_type": "stream",
     "text": [
      "Number of negative numbers:  4\n"
     ]
    }
   ],
   "source": [
    "\n",
    "print(\"Number of negative numbers: \", len(d[d < 0]))"
   ]
  },
  {
   "cell_type": "markdown",
   "id": "71f91525",
   "metadata": {},
   "source": [
    "### Exercise 5\n",
    "Find all the positive numbers in d"
   ]
  },
  {
   "cell_type": "code",
   "execution_count": 130,
   "id": "f42b67ac",
   "metadata": {},
   "outputs": [
    {
     "name": "stdout",
     "output_type": "stream",
     "text": [
      "Number of positive numbers:  12\n"
     ]
    }
   ],
   "source": [
    "print(\"Number of positive numbers: \", len(d[d > 0]))"
   ]
  },
  {
   "cell_type": "markdown",
   "id": "054cccbb",
   "metadata": {},
   "source": [
    "\n",
    "### Exercise 6 \n",
    "Return an array of only the unique numbers in d."
   ]
  },
  {
   "cell_type": "code",
   "execution_count": 131,
   "id": "b75a0b15",
   "metadata": {},
   "outputs": [
    {
     "name": "stdout",
     "output_type": "stream",
     "text": [
      "[-90 -45 -30   0  30  45  60  90 120 180 270]\n"
     ]
    }
   ],
   "source": [
    "d_unique = np.unique(d)\n",
    "print(d_unique)"
   ]
  },
  {
   "cell_type": "markdown",
   "id": "a5c600f6",
   "metadata": {},
   "source": [
    "### Exercise 7 \n",
    "Determine how many unique numbers there are in d."
   ]
  },
  {
   "cell_type": "code",
   "execution_count": 132,
   "id": "f9b364a9",
   "metadata": {},
   "outputs": [
    {
     "name": "stdout",
     "output_type": "stream",
     "text": [
      "11\n"
     ]
    }
   ],
   "source": [
    "d_unique = np.unique(d)\n",
    "print(len(d_unique))"
   ]
  },
  {
   "cell_type": "markdown",
   "id": "e957ed67",
   "metadata": {},
   "source": [
    "### Exercise 8 \n",
    "Print out the shape of d."
   ]
  },
  {
   "cell_type": "code",
   "execution_count": 126,
   "id": "a8782bcc",
   "metadata": {},
   "outputs": [
    {
     "name": "stdout",
     "output_type": "stream",
     "text": [
      "(3, 6)\n"
     ]
    }
   ],
   "source": [
    "print(d.shape)"
   ]
  },
  {
   "cell_type": "markdown",
   "id": "527678dd",
   "metadata": {},
   "source": [
    "### Exercise 9 \n",
    "Transpose and then print out the shape of d."
   ]
  },
  {
   "cell_type": "code",
   "execution_count": 127,
   "id": "9b5d0b71",
   "metadata": {},
   "outputs": [
    {
     "name": "stdout",
     "output_type": "stream",
     "text": [
      "[[ 90  45  60]\n",
      " [ 30 -90  45]\n",
      " [ 45 -30 -45]\n",
      " [  0 270  90]\n",
      " [120  90 -45]\n",
      " [180   0 180]]\n",
      "(3, 6)\n"
     ]
    }
   ],
   "source": [
    "print(d.transpose())\n",
    "print(d.shape)"
   ]
  },
  {
   "cell_type": "markdown",
   "id": "8b882435",
   "metadata": {},
   "source": [
    "### Exercise 10 \n",
    "Reshape d into an array of 9 x 2"
   ]
  },
  {
   "cell_type": "code",
   "execution_count": 128,
   "id": "7c5bb33a",
   "metadata": {},
   "outputs": [
    {
     "name": "stdout",
     "output_type": "stream",
     "text": [
      "[[ 90  30  45   0 120 180]\n",
      " [ 45 -90 -30 270  90   0]\n",
      " [ 60  45 -45  90 -45 180]] \n",
      "\n",
      "[[ 90  30]\n",
      " [ 45   0]\n",
      " [120 180]\n",
      " [ 45 -90]\n",
      " [-30 270]\n",
      " [ 90   0]\n",
      " [ 60  45]\n",
      " [-45  90]\n",
      " [-45 180]]\n"
     ]
    }
   ],
   "source": [
    "print(d, '\\n')\n",
    "print(d.reshape(9,2))"
   ]
  }
 ],
 "metadata": {
  "kernelspec": {
   "display_name": "Python 3",
   "language": "python",
   "name": "python3"
  },
  "language_info": {
   "codemirror_mode": {
    "name": "ipython",
    "version": 3
   },
   "file_extension": ".py",
   "mimetype": "text/x-python",
   "name": "python",
   "nbconvert_exporter": "python",
   "pygments_lexer": "ipython3",
   "version": "3.8.8"
  }
 },
 "nbformat": 4,
 "nbformat_minor": 5
}
